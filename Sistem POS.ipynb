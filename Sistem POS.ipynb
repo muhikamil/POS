{
  "nbformat": 4,
  "nbformat_minor": 0,
  "metadata": {
    "colab": {
      "provenance": []
    },
    "kernelspec": {
      "name": "python3",
      "display_name": "Python 3"
    },
    "language_info": {
      "name": "python"
    }
  },
  "cells": [
    {
      "cell_type": "markdown",
      "source": [
        "Membuat Database gudang terlebih dahulu"
      ],
      "metadata": {
        "id": "lq479qdc1Kq-"
      }
    },
    {
      "cell_type": "code",
      "execution_count": null,
      "metadata": {
        "colab": {
          "base_uri": "https://localhost:8080/"
        },
        "id": "yFP5U0aZ0ugx",
        "outputId": "cc1a7d71-6030-48cc-f067-73e2a3784d35"
      },
      "outputs": [
        {
          "output_type": "execute_result",
          "data": {
            "text/plain": [
              "<sqlite3.Cursor at 0x7faa6e846c00>"
            ]
          },
          "metadata": {},
          "execution_count": 8
        }
      ],
      "source": [
        "import sqlite3,os,datetime\n",
        "now = datetime.datetime.now()\n",
        "db = sqlite3.connect('gudang.db')\n",
        "cursor = db.cursor()\n",
        "\n",
        "cursor.execute('CREATE TABLE barang(id_barang INTEGER PRIMARY KEY AUTOINCREMENT,nama_barang TEXT, kategori_barang TEXT, stok_barang INTEGER, harga_barang INTEGER, tanggal_input DATE)')"
      ]
    },
    {
      "cell_type": "code",
      "source": [
        "#fungsi input atau untuk memasukkan barang kedalam database\n",
        "def add():\n",
        "  nama= input('Masukkan nama barang : ')\n",
        "  kategori= input('Masukkan kategori barang : ')\n",
        "  stok=int(input('Masukkan stok barang : '))\n",
        "  harga=int(input('Masukkan harga barang : '))\n",
        "  query='''INSERT INTO barang (nama_barang,kategori_barang,stok_barang,harga_barang,tanggal_input) VALUES (?,?,?,?,?)'''\n",
        "  value = (nama,kategori,stok,harga,now.strftime('%d-%m-%Y'))\n",
        "  cursor.execute(query,value)\n",
        "  db.commit()\n",
        "\n",
        "#fungsi untuk melihat data yang ada didalam tabel database\n",
        "def read():\n",
        "  res = cursor.execute('SELECT * FROM barang')\n",
        "  for x in res:\n",
        "    print(x)\n",
        "\n",
        "#fungsi untuk melakukan update harga dan stok barang atau edit\n",
        "def edit():\n",
        "  print('Kolom : [harga_barang, stok_barang]')\n",
        "  kolom = (input('Input kolom yang ingin diupdate : '))\n",
        "  id = int(input('Masukkan id barang : '))\n",
        "  isi = int(input('Masukkan Value :  '))\n",
        "  sql =f'''UPDATE barang SET {kolom}={isi} WHERE id_barang={id}'''\n",
        "  cursor.execute(sql)\n",
        "  db.commit()\n",
        "\n",
        "def delete():\n",
        "  id = int(input('Masukkan id barang : '))\n",
        "  sql=f'''DELETE FROM barang WHERE id_barang={id}'''\n",
        "  cursor.execute(sql)\n",
        "  db.commit()\n",
        "\n",
        "def menu():\n",
        "  print('''==========MENU==========\n",
        "1. Input Data Barang\n",
        "2. Update Data Barang\n",
        "3. Hapus Data Barang\n",
        "4. Lihat Data Barang\n",
        "5. Keluar\n",
        "===================''')\n",
        "  while True:\n",
        "    x = int(input('Pilihan: '))\n",
        "    if x == 1:\n",
        "      add()\n",
        "      break\n",
        "    elif x == 2:\n",
        "      os.system('cls')\n",
        "      edit()\n",
        "      break\n",
        "    elif x == 3:\n",
        "      os.system('cls')\n",
        "      delete()\n",
        "      break\n",
        "    elif x == 4:\n",
        "      os.system('cls')\n",
        "      read()\n",
        "      break\n",
        "    elif x == 5:\n",
        "      exit()\n",
        "      break\n",
        "    else:\n",
        "      continue\n",
        "menu()"
      ],
      "metadata": {
        "id": "sTRGznTJ1eQu",
        "colab": {
          "base_uri": "https://localhost:8080/"
        },
        "outputId": "093d052d-b5b3-433b-90ed-94a9fd338a1e"
      },
      "execution_count": null,
      "outputs": [
        {
          "output_type": "stream",
          "name": "stdout",
          "text": [
            "==========MENU==========\n",
            "1. Input Data Barang\n",
            "2. Update Data Barang\n",
            "3. Hapus Data Barang\n",
            "4. Lihat Data Barang\n",
            "5. Keluar\n",
            "===================\n",
            "Pilihan: 4\n",
            "(1, 'gery salut malkist coklat', 'Makanan', 200, 5000, '07-01-2022')\n"
          ]
        }
      ]
    }
  ]
}